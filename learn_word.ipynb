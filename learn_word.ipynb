{
 "cells": [
  {
   "cell_type": "markdown",
   "id": "eef94491",
   "metadata": {},
   "source": [
    "# 워드를 여러개 만들어보며 배워봅시다 공식 문서를 기반으로 작성했습니다. python-docx"
   ]
  },
  {
   "cell_type": "markdown",
   "id": "d12ed1bf",
   "metadata": {},
   "source": [
    "## 비어 있는 문서를 만들어봅시다."
   ]
  },
  {
   "cell_type": "code",
   "execution_count": 18,
   "id": "f363cf20",
   "metadata": {},
   "outputs": [],
   "source": [
    "from docx import Document\n",
    "from utils.function import *\n",
    "\n",
    "save = set_save()\n",
    "document = Document()\n",
    "# 객체만 만들었기에 별 다른무언가는 없습니다.\n",
    "# 이를 저장한다면 빈문서가 생깁니다. \n",
    "document.save('learn_word/test_document.docx')\n",
    "save = set_save()"
   ]
  },
  {
   "cell_type": "markdown",
   "id": "6c45174b",
   "metadata": {},
   "source": [
    "![이미지](image/explorer_ZVtgg4Kwlm.png)"
   ]
  },
  {
   "cell_type": "markdown",
   "id": "810e2070",
   "metadata": {},
   "source": [
    "## 단락을 추가해봅시다"
   ]
  },
  {
   "cell_type": "code",
   "execution_count": 19,
   "id": "c2b6f86e",
   "metadata": {},
   "outputs": [],
   "source": [
    "paragraph = document.add_paragraph('반갑단락')\n",
    "document.save(save)\n"
   ]
  },
  {
   "cell_type": "markdown",
   "id": "4b7b4b84",
   "metadata": {},
   "source": [
    "![](image/POWERPNT_5A0sagntVW.png)"
   ]
  },
  {
   "cell_type": "markdown",
   "id": "f8b74cbb",
   "metadata": {},
   "source": [
    "## 코드의 장점은 중간에 삽입할 수도 있습니다"
   ]
  },
  {
   "cell_type": "code",
   "execution_count": 20,
   "id": "5848883d",
   "metadata": {},
   "outputs": [],
   "source": [
    "document = Document()\n",
    "paragraph = document.add_paragraph('반갑단락')\n",
    "prior_paragraph = paragraph.insert_paragraph_before('어 반갑고')\n",
    "document.save(save)\n"
   ]
  },
  {
   "cell_type": "markdown",
   "id": "985e91e5",
   "metadata": {},
   "source": [
    "![](image/Cursor_KTPQzxoUmf.png)"
   ]
  },
  {
   "cell_type": "markdown",
   "id": "481b89af",
   "metadata": {},
   "source": [
    "## 제목을 추가해봅시다. 제목의 레벨을 설정하면 그만큼 하위 상위의 제목이 결정됩니다"
   ]
  },
  {
   "cell_type": "code",
   "execution_count": null,
   "id": "12129179",
   "metadata": {},
   "outputs": [],
   "source": [
    "document.add_heading('반가운걸 어떡해 내 맘 넘나 떨려', level=1)\n",
    "#0~10사이의 정수여야합니다 \n",
    "document.save(save)\n"
   ]
  },
  {
   "cell_type": "markdown",
   "id": "0b0e804d",
   "metadata": {},
   "source": [
    "![](image/Cursor_cEi6qlPj9A.png)"
   ]
  },
  {
   "cell_type": "markdown",
   "id": "864a86a0",
   "metadata": {},
   "source": [
    "## 이제 페이지를 나누어봅시다"
   ]
  },
  {
   "cell_type": "code",
   "execution_count": 22,
   "id": "5de6ec3b",
   "metadata": {},
   "outputs": [],
   "source": [
    "document.add_page_break()\n",
    "document.save(save)"
   ]
  },
  {
   "cell_type": "markdown",
   "id": "892780de",
   "metadata": {},
   "source": [
    "![](image/explorer_x4SagfO1hE.png)"
   ]
  },
  {
   "cell_type": "markdown",
   "id": "a1d5bce4",
   "metadata": {},
   "source": [
    "## 이제 테이블을 추가해봅시다. "
   ]
  },
  {
   "cell_type": "code",
   "execution_count": 28,
   "id": "408edac6",
   "metadata": {},
   "outputs": [],
   "source": [
    "document = Document()\n",
    "# 새 객체 만들고 \n",
    "\n",
    "document.add_heading('반가워요 테이블 갖고 놀거에요', level=1)\n",
    "\n",
    "table = document.add_table(rows=2, cols=2)\n",
    "# 테이블을 생성하고 \n",
    "cell = table.cell(0, 1)\n",
    "# 개별 셀에 접근합니다 \n",
    "cell.text = '이놈아저씨한다.'\n",
    "\n",
    "# 근데 뭐 아시죠? 반복문 마려운거 \n",
    "tables = document.add_table(rows=2,cols=2)\n",
    "for i in range(2):\n",
    "    for j in range(2):\n",
    "        cell = tables.cell(i,j)\n",
    "        cell.text = f'{j,i}반복문 이궈궈던!'\n",
    "document.save(save)"
   ]
  },
  {
   "cell_type": "markdown",
   "id": "eb1835c7",
   "metadata": {},
   "source": [
    "![](image/Cursor_cWIRtBvoAI.png)"
   ]
  },
  {
   "cell_type": "markdown",
   "id": "516dfd5d",
   "metadata": {},
   "source": [
    "### 그림도 추가해 봅시다"
   ]
  },
  {
   "cell_type": "code",
   "execution_count": null,
   "id": "daf5cc7c",
   "metadata": {},
   "outputs": [],
   "source": [
    "from docx.shared import Inches\n",
    "\n",
    "document.add_picture(r'image/mul.png', width=Inches(1.0))\n",
    "document.save(save)"
   ]
  },
  {
   "cell_type": "markdown",
   "id": "a6ee9faf",
   "metadata": {},
   "source": [
    "![](image/Cursor_pG1v60CmtI.png)"
   ]
  },
  {
   "cell_type": "markdown",
   "id": "c29f6847",
   "metadata": {},
   "source": [
    "### 이제 간단한 제목을 추가해봅시다."
   ]
  },
  {
   "cell_type": "code",
   "execution_count": 48,
   "id": "b2d591f1",
   "metadata": {},
   "outputs": [],
   "source": [
    "from docx import Document\n",
    "from docx.enum.text import WD_ALIGN_PARAGRAPH\n",
    "\n",
    "documnet = Document()\n",
    "# 객체 선언 \n",
    "\n",
    "title = documnet.add_heading('보고서 입니다.', level = 0)\n",
    "\n",
    "title.alignment =WD_ALIGN_PARAGRAPH.CENTER\n",
    "# 중앙 정렬을 지정합니다. 매개변수로 right , left도 있습니다 \n",
    "documnet.save(save)"
   ]
  },
  {
   "cell_type": "markdown",
   "id": "6475ac2d",
   "metadata": {},
   "source": [
    "![](image/Cursor_6XYn8KYUX9.png)"
   ]
  },
  {
   "cell_type": "markdown",
   "id": "53011319",
   "metadata": {},
   "source": [
    "### 쭉 이어서 본문을 작성해봅시다"
   ]
  },
  {
   "cell_type": "code",
   "execution_count": 49,
   "id": "62f9aba7",
   "metadata": {},
   "outputs": [],
   "source": [
    "from docx.shared import Pt, Cm\n",
    "# 한국 사람이니까 폰트 크기 및 센치미터를 불러와서 사이즈를 적용하겠습니다. 인치도 있으니 필요시에 사용하세용  \n",
    "from docx.shared import RGBColor\n",
    "# 색깔을 위해 사용합니다. \n",
    "documnet.add_paragraph()\n",
    "# 이렇게 하면 빈줄을 추가합니다. \n",
    "sunmmer=documnet.add_heading('요약',level=1)\n",
    "sunmmer.alignment = WD_ALIGN_PARAGRAPH.CENTER\n",
    "# 중앙정렬\n",
    "chorock = documnet.add_paragraph()\n",
    "# 줄을 잡아두고 \n",
    "chorock.add_run('요약을 할 예정입니다\\n').bold = True \n",
    "chorock.add_run('메이플을 해보셨나요? 오늘 집가서 할 예정이긴 한데 요즘 좀 재미없네요\\n').font.size = Pt(11)\n",
    "chorock.add_run('거참 딱 접기 좋은 날씨네').font.color.rgb = RGBColor(128, 128, 128)\n",
    "chorock.alignment = WD_ALIGN_PARAGRAPH.CENTER\n",
    "documnet.save(save)\n"
   ]
  },
  {
   "cell_type": "markdown",
   "id": "adbd7dce",
   "metadata": {},
   "source": [
    "![](image/Cursor_AIYkbQRT9u.png)"
   ]
  },
  {
   "cell_type": "markdown",
   "id": "f4c963b3",
   "metadata": {},
   "source": [
    "### 어울릴만한 이미지를 붙여봅시다"
   ]
  },
  {
   "cell_type": "code",
   "execution_count": 47,
   "id": "30ab2e4b",
   "metadata": {},
   "outputs": [],
   "source": [
    "second=documnet.add_paragraph()\n",
    "second.add_run('안녕하세요 이미지입니다')\n",
    "image_1 = documnet.add_picture(r'image\\mul.png',width=Cm(20),height=Cm(20))\n",
    "imagesec1 = paragraph.insert_paragraph_before()\n",
    "imagesec1.alignment = WD_ALIGN_PARAGRAPH.LEFT\n",
    "image_2 = documnet.add_picture(r'image\\mul2.png',width=Cm(20),height=Cm(20))\n",
    "imagesec2 = paragraph.insert_paragraph_before()\n",
    "imagesec2.alignment =  WD_ALIGN_PARAGRAPH.RIGHT\n",
    "documnet.save(save)\n"
   ]
  },
  {
   "cell_type": "markdown",
   "id": "9093203c",
   "metadata": {},
   "source": [
    "![](image/Cursor_xRI3aKEA65.png)"
   ]
  },
  {
   "cell_type": "markdown",
   "id": "c8237fc4",
   "metadata": {},
   "source": [
    "### 딱 봐도 의도랑 다르게 동작했으므로 고칩시다"
   ]
  },
  {
   "cell_type": "code",
   "execution_count": 50,
   "id": "c2c6eccb",
   "metadata": {},
   "outputs": [],
   "source": [
    "second=documnet.add_paragraph()\n",
    "second.add_run('안녕하세요 이미지입니다')\n",
    "image_1 = documnet.add_picture(r'image\\mul.png',width=Cm(5),height=Cm(5))\n",
    "imagesec1 = paragraph.insert_paragraph_before()\n",
    "imagesec1.alignment = WD_ALIGN_PARAGRAPH.LEFT\n",
    "image_2 = documnet.add_picture(r'image\\mul2.png',width=Cm(5),height=Cm(5))\n",
    "imagesec2 = paragraph.insert_paragraph_before()\n",
    "imagesec2.alignment =  WD_ALIGN_PARAGRAPH.RIGHT\n",
    "documnet.save(save)"
   ]
  },
  {
   "cell_type": "markdown",
   "id": "3201c5a2",
   "metadata": {},
   "source": [
    "![](image/Cursor_3yPrL9z45P.png)"
   ]
  },
  {
   "cell_type": "markdown",
   "id": "70ab268b",
   "metadata": {},
   "source": [
    "### 의도는 양옆 배치인데 다르게 동작하는 이유는 2가지의 섹션이 하나의 줄을 차지하기 때문에 이전의 섹션에다가 배치를 하면 이처럼 원하는 바와 다르게 동작합니다. 이를 해결하기 위해선 cell을 만들어서 테이블 형태로 데이터를 삽입하면 됩니다. "
   ]
  },
  {
   "cell_type": "code",
   "execution_count": 55,
   "id": "591fda42",
   "metadata": {},
   "outputs": [],
   "source": [
    "# 2개 넣을 거니까 1행 2열이면 되겠죠? \n",
    "image_table = documnet.add_table(rows=1,cols=2)\n",
    "left_cell = image_table.cell(0,0)\n",
    "left_cell_section = left_cell.paragraphs[0]\n",
    "left_cell_section.alignment = WD_ALIGN_PARAGRAPH.CENTER\n",
    "left_cell_section.add_run().add_picture(r'image\\mul.png',width = Cm(8))\n",
    "\n",
    "right_cell = image_table.cell(0,1)\n",
    "right_cell_section = right_cell.paragraphs[0]\n",
    "right_cell_section.alignment = WD_ALIGN_PARAGRAPH.CENTER\n",
    "right_cell_section.add_run().add_picture(r'image\\mul2.png',width = Cm(8))\n",
    "\n",
    "documnet.save(save)\n"
   ]
  },
  {
   "cell_type": "markdown",
   "id": "93c8e900",
   "metadata": {},
   "source": [
    "![](image/Cursor_azrBa7z9ZQ.png)"
   ]
  },
  {
   "cell_type": "markdown",
   "id": "9f614296",
   "metadata": {},
   "source": [
    "### 이미지 밑에 글도 추가해봅시다."
   ]
  },
  {
   "cell_type": "code",
   "execution_count": 56,
   "id": "999f3c0b",
   "metadata": {},
   "outputs": [],
   "source": [
    "text_table = documnet.add_table(cols=2,rows=1)\n",
    "\n",
    "ltext_cell = text_table.cell(0,0)\n",
    "ltext_cell_section = ltext_cell.paragraphs[0]\n",
    "ltext_cell_section.alignment = WD_ALIGN_PARAGRAPH.CENTER\n",
    "# 위치 같아야 그 위치 밑에 텍스트가 박힙니다. \n",
    "ltext_cell_section.add_run('수영물개')\n",
    "\n",
    "rtext_cell = text_table.cell(0,1)\n",
    "rtext_cell_section = rtext_cell.paragraphs[0]\n",
    "rtext_cell_section.alignment = WD_ALIGN_PARAGRAPH.CENTER\n",
    "rtext_cell_section.add_run('뒹굴물개')\n",
    "\n",
    "documnet.save(save)\n",
    "\n"
   ]
  },
  {
   "cell_type": "markdown",
   "id": "f17c0cf4",
   "metadata": {},
   "source": [
    "![](image/Cursor_iAzqQwt6xG.png)"
   ]
  },
  {
   "cell_type": "markdown",
   "id": "d3722c82",
   "metadata": {},
   "source": [
    "### 이제 진짜 표를 추가해봅시다"
   ]
  },
  {
   "cell_type": "code",
   "execution_count": 59,
   "id": "98488d4a",
   "metadata": {},
   "outputs": [],
   "source": [
    "tables=documnet.add_table(2,2)\n",
    "tables.style = 'Table Grid'\n",
    "\n",
    "for row in tables.rows:\n",
    "    for cell in row.cells:\n",
    "        cell.text = '10'\n",
    "\n",
    "documnet.save(save)\n"
   ]
  },
  {
   "cell_type": "markdown",
   "id": "3620f8f6",
   "metadata": {},
   "source": [
    "![](image/Cursor_JwjesZMn4C.png)"
   ]
  },
  {
   "cell_type": "markdown",
   "id": "f7ac6a3a",
   "metadata": {},
   "source": [
    "### 마지막 코드 정리 "
   ]
  },
  {
   "cell_type": "code",
   "execution_count": 60,
   "id": "53f31795",
   "metadata": {},
   "outputs": [],
   "source": [
    "from docx import Document\n",
    "from docx.enum.text import WD_ALIGN_PARAGRAPH\n",
    "from docx.shared import Pt, Cm\n",
    "# 한국 사람이니까 폰트 크기 및 센치미터를 불러와서 사이즈를 적용하겠습니다. 인치도 있으니 필요시에 사용하세용  \n",
    "from docx.shared import RGBColor\n",
    "# 색깔을 위해 사용합니다. \n",
    "\n",
    "documnet = Document()\n",
    "# 객체 선언 \n",
    "\n",
    "title = documnet.add_heading('보고서 입니다.', level = 0)\n",
    "\n",
    "title.alignment =WD_ALIGN_PARAGRAPH.CENTER\n",
    "# 중앙 정렬을 지정합니다. 매개변수로 right , left도 있습니다 \n",
    "\n",
    "documnet.add_paragraph()\n",
    "# 이렇게 하면 빈줄을 추가합니다. \n",
    "sunmmer=documnet.add_heading('요약',level=1)\n",
    "sunmmer.alignment = WD_ALIGN_PARAGRAPH.CENTER\n",
    "# 중앙정렬\n",
    "chorock = documnet.add_paragraph()\n",
    "# 줄을 잡아두고 \n",
    "chorock.add_run('요약을 할 예정입니다\\n').bold = True \n",
    "chorock.add_run('메이플을 해보셨나요? 오늘 집가서 할 예정이긴 한데 요즘 좀 재미없네요\\n').font.size = Pt(11)\n",
    "chorock.add_run('거참 딱 접기 좋은 날씨네').font.color.rgb = RGBColor(128, 128, 128)\n",
    "chorock.alignment = WD_ALIGN_PARAGRAPH.CENTER\n",
    "# 2개 넣을 거니까 1행 2열이면 되겠죠? \n",
    "image_table = documnet.add_table(rows=1,cols=2)\n",
    "left_cell = image_table.cell(0,0)\n",
    "left_cell_section = left_cell.paragraphs[0]\n",
    "left_cell_section.alignment = WD_ALIGN_PARAGRAPH.CENTER\n",
    "left_cell_section.add_run().add_picture(r'image\\mul.png',width = Cm(8))\n",
    "\n",
    "right_cell = image_table.cell(0,1)\n",
    "right_cell_section = right_cell.paragraphs[0]\n",
    "right_cell_section.alignment = WD_ALIGN_PARAGRAPH.CENTER\n",
    "right_cell_section.add_run().add_picture(r'image\\mul2.png',width = Cm(8))\n",
    "text_table = documnet.add_table(cols=2,rows=1)\n",
    "\n",
    "ltext_cell = text_table.cell(0,0)\n",
    "ltext_cell_section = ltext_cell.paragraphs[0]\n",
    "ltext_cell_section.alignment = WD_ALIGN_PARAGRAPH.CENTER\n",
    "# 위치 같아야 그 위치 밑에 텍스트가 박힙니다. \n",
    "ltext_cell_section.add_run('수영물개')\n",
    "\n",
    "rtext_cell = text_table.cell(0,1)\n",
    "rtext_cell_section = rtext_cell.paragraphs[0]\n",
    "rtext_cell_section.alignment = WD_ALIGN_PARAGRAPH.CENTER\n",
    "rtext_cell_section.add_run('뒹굴물개')\n",
    "tables=documnet.add_table(2,2)\n",
    "tables.style = 'Table Grid'\n",
    "\n",
    "for row in tables.rows:\n",
    "    for cell in row.cells:\n",
    "        cell.text = '이미지는 전부 제미나이로 생성했습니다.'\n",
    "\n",
    "documnet.save(save)"
   ]
  },
  {
   "cell_type": "markdown",
   "id": "b0227f33",
   "metadata": {},
   "source": [
    "![](image/Cursor_6MnMx69wWR.png)"
   ]
  }
 ],
 "metadata": {
  "kernelspec": {
   "display_name": "lmpy",
   "language": "python",
   "name": "python3"
  },
  "language_info": {
   "codemirror_mode": {
    "name": "ipython",
    "version": 3
   },
   "file_extension": ".py",
   "mimetype": "text/x-python",
   "name": "python",
   "nbconvert_exporter": "python",
   "pygments_lexer": "ipython3",
   "version": "3.12.9"
  }
 },
 "nbformat": 4,
 "nbformat_minor": 5
}
