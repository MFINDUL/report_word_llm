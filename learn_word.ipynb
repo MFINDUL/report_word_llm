{
 "cells": [
  {
   "cell_type": "markdown",
   "id": "eef94491",
   "metadata": {},
   "source": [
    "# 워드를 여러개 만들어보며 배워봅시다 공식 문서를 기반으로 작성했습니다. python-docx"
   ]
  },
  {
   "cell_type": "markdown",
   "id": "d12ed1bf",
   "metadata": {},
   "source": [
    "## 비어 있는 문서를 만들어봅시다."
   ]
  },
  {
   "cell_type": "code",
   "execution_count": 18,
   "id": "f363cf20",
   "metadata": {},
   "outputs": [],
   "source": [
    "from docx import Document\n",
    "from utils.function import *\n",
    "\n",
    "save = set_save()\n",
    "document = Document()\n",
    "# 객체만 만들었기에 별 다른무언가는 없습니다.\n",
    "# 이를 저장한다면 빈문서가 생깁니다. \n",
    "document.save('learn_word/test_document.docx')\n",
    "save = set_save()"
   ]
  },
  {
   "cell_type": "markdown",
   "id": "6c45174b",
   "metadata": {},
   "source": [
    "![이미지](image/explorer_ZVtgg4Kwlm.png)"
   ]
  },
  {
   "cell_type": "markdown",
   "id": "810e2070",
   "metadata": {},
   "source": [
    "## 단락을 추가해봅시다"
   ]
  },
  {
   "cell_type": "code",
   "execution_count": 19,
   "id": "c2b6f86e",
   "metadata": {},
   "outputs": [],
   "source": [
    "paragraph = document.add_paragraph('반갑단락')\n",
    "document.save(save)\n"
   ]
  },
  {
   "cell_type": "markdown",
   "id": "4b7b4b84",
   "metadata": {},
   "source": [
    "![](image/POWERPNT_5A0sagntVW.png)"
   ]
  },
  {
   "cell_type": "markdown",
   "id": "f8b74cbb",
   "metadata": {},
   "source": [
    "## 코드의 장점은 중간에 삽입할 수도 있습니다"
   ]
  },
  {
   "cell_type": "code",
   "execution_count": 20,
   "id": "5848883d",
   "metadata": {},
   "outputs": [],
   "source": [
    "document = Document()\n",
    "paragraph = document.add_paragraph('반갑단락')\n",
    "prior_paragraph = paragraph.insert_paragraph_before('어 반갑고')\n",
    "document.save(save)\n"
   ]
  },
  {
   "cell_type": "markdown",
   "id": "985e91e5",
   "metadata": {},
   "source": [
    "![](image/Cursor_KTPQzxoUmf.png)"
   ]
  },
  {
   "cell_type": "markdown",
   "id": "481b89af",
   "metadata": {},
   "source": [
    "## 제목을 추가해봅시다. 제목의 레벨을 설정하면 그만큼 하위 상위의 제목이 결정됩니다"
   ]
  },
  {
   "cell_type": "code",
   "execution_count": 21,
   "id": "12129179",
   "metadata": {},
   "outputs": [],
   "source": [
    "document.add_heading('반가운걸 어떡해 내 맘 넘나 떨려', level=1)\n",
    "#1~10사이의 정수여야합니다 \n",
    "document.save(save)\n"
   ]
  },
  {
   "cell_type": "markdown",
   "id": "0b0e804d",
   "metadata": {},
   "source": [
    "![](image/Cursor_cEi6qlPj9A.png)"
   ]
  },
  {
   "cell_type": "markdown",
   "id": "864a86a0",
   "metadata": {},
   "source": [
    "## 이제 페이지를 나누어봅시다"
   ]
  },
  {
   "cell_type": "code",
   "execution_count": 22,
   "id": "5de6ec3b",
   "metadata": {},
   "outputs": [],
   "source": [
    "document.add_page_break()\n",
    "document.save(save)"
   ]
  },
  {
   "cell_type": "markdown",
   "id": "892780de",
   "metadata": {},
   "source": [
    "![](image/explorer_x4SagfO1hE.png)"
   ]
  },
  {
   "cell_type": "markdown",
   "id": "a1d5bce4",
   "metadata": {},
   "source": [
    "## 이제 테이블을 추가해봅시다. "
   ]
  },
  {
   "cell_type": "code",
   "execution_count": 28,
   "id": "408edac6",
   "metadata": {},
   "outputs": [],
   "source": [
    "document = Document()\n",
    "# 새 객체 만들고 \n",
    "\n",
    "document.add_heading('반가워요 테이블 갖고 놀거에요', level=1)\n",
    "\n",
    "table = document.add_table(rows=2, cols=2)\n",
    "# 테이블을 생성하고 \n",
    "cell = table.cell(0, 1)\n",
    "# 개별 셀에 접근합니다 \n",
    "cell.text = '이놈아저씨한다.'\n",
    "\n",
    "# 근데 뭐 아시죠? 반복문 마려운거 \n",
    "tables = document.add_table(rows=2,cols=2)\n",
    "for i in range(2):\n",
    "    for j in range(2):\n",
    "        cell = tables.cell(i,j)\n",
    "        cell.text = f'{j,i}반복문 이궈궈던!'\n",
    "document.save(save)"
   ]
  },
  {
   "cell_type": "markdown",
   "id": "eb1835c7",
   "metadata": {},
   "source": [
    "![](image/Cursor_cWIRtBvoAI.png)"
   ]
  },
  {
   "cell_type": "markdown",
   "id": "516dfd5d",
   "metadata": {},
   "source": [
    "### 그림도 추가해 봅시다"
   ]
  },
  {
   "cell_type": "code",
   "execution_count": 31,
   "id": "daf5cc7c",
   "metadata": {},
   "outputs": [],
   "source": [
    "from docx.shared import Inches\n",
    "\n",
    "document.add_picture(r'C:\\Users\\roaco\\Desktop\\프로젝트들 정리하기\\make_report\\mul.png', width=Inches(1.0))\n",
    "document.save(save)"
   ]
  },
  {
   "cell_type": "markdown",
   "id": "a6ee9faf",
   "metadata": {},
   "source": [
    "![](image/Cursor_pG1v60CmtI.png)"
   ]
  },
  {
   "cell_type": "code",
   "execution_count": null,
   "id": "b2d591f1",
   "metadata": {},
   "outputs": [],
   "source": []
  }
 ],
 "metadata": {
  "kernelspec": {
   "display_name": "lmpy",
   "language": "python",
   "name": "python3"
  },
  "language_info": {
   "codemirror_mode": {
    "name": "ipython",
    "version": 3
   },
   "file_extension": ".py",
   "mimetype": "text/x-python",
   "name": "python",
   "nbconvert_exporter": "python",
   "pygments_lexer": "ipython3",
   "version": "3.12.9"
  }
 },
 "nbformat": 4,
 "nbformat_minor": 5
}
